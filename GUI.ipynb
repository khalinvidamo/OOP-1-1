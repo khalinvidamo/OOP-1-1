{
  "nbformat": 4,
  "nbformat_minor": 0,
  "metadata": {
    "colab": {
      "name": "GUI.ipynb",
      "provenance": [],
      "authorship_tag": "ABX9TyOs7VJyu9pQirn3yrbmuQdY",
      "include_colab_link": true
    },
    "kernelspec": {
      "name": "python3",
      "display_name": "Python 3"
    },
    "language_info": {
      "name": "python"
    }
  },
  "cells": [
    {
      "cell_type": "markdown",
      "metadata": {
        "id": "view-in-github",
        "colab_type": "text"
      },
      "source": [
        "<a href=\"https://colab.research.google.com/github/khalinvidamo1-1/OOP-1-1/blob/main/GUI.ipynb\" target=\"_parent\"><img src=\"https://colab.research.google.com/assets/colab-badge.svg\" alt=\"Open In Colab\"/></a>"
      ]
    },
    {
      "cell_type": "markdown",
      "source": [
        "###Students' Grade in OOP subject"
      ],
      "metadata": {
        "id": "Pko911Rcw7Ob"
      }
    },
    {
      "cell_type": "code",
      "source": [
        "#@title Students' Grade in OOP\n",
        "Student_Name = \"Khalin Rose Vidamo\" #@param {type:\"string\"}\n",
        "prelim_grade = 95 #@param {type:\"integer\"}\n",
        "midterm = 96 #@param {type:\"integer\"}\n",
        "final = 100 #@param {type:\"integer\"}\n",
        "semestral_grade = round((prelim_grade + midterm + final)/3,2)\n",
        "\n",
        "print(\"My prelim grade is \" + str (prelim_grade))\n",
        "print(\"My midterm grade is \" + str(midterm))\n",
        "print(\"My final grade is\" + str(final))\n",
        "print(\"My semestral grade is\" + str(semestral_grade))\n",
        "\n",
        "\n",
        "Gender = \"Female\" #@param[\"Male\",\"Female\"]\n",
        "Birthdate = \"03-16-03\" #@param {type: \"date\"}\n",
        "\n",
        "print(\"My birthdate is\" +  Birthdate)"
      ],
      "metadata": {
        "colab": {
          "base_uri": "https://localhost:8080/"
        },
        "id": "WBBXqoJ1xdDv",
        "outputId": "72e6b529-918d-409a-f560-75acd33d4b36"
      },
      "execution_count": 2,
      "outputs": [
        {
          "output_type": "stream",
          "name": "stdout",
          "text": [
            "My prelim grade is 95\n",
            "My midterm grade is 96\n",
            "My final grade is100\n",
            "My semestral grade is97.0\n",
            "My birthdate is03-16-03\n"
          ]
        }
      ]
    },
    {
      "cell_type": "code",
      "source": [
        "Gender = \"Female\" #@param [\"Male\",\"Female\"] {type: \"raw\"}\n",
        "BirthDate = '03-16-03' #@param {type: \"date\"}\n",
        "\n",
        "print(\"I am a\", Gender)\n",
        "print(\"My Birthday is\",BirthDate)"
      ],
      "metadata": {
        "colab": {
          "base_uri": "https://localhost:8080/"
        },
        "id": "2RyFTez701Y_",
        "outputId": "5ceda5ef-9555-4dde-ff7f-72c070496355"
      },
      "execution_count": 3,
      "outputs": [
        {
          "output_type": "stream",
          "name": "stdout",
          "text": [
            "I am a Female\n",
            "My Birthday is 03-16-03\n"
          ]
        }
      ]
    }
  ]
}