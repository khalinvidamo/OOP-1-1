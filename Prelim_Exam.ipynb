{
  "nbformat": 4,
  "nbformat_minor": 0,
  "metadata": {
    "colab": {
      "name": "Prelim Exam.ipynb",
      "provenance": [],
      "authorship_tag": "ABX9TyO6DxU1T/CmMdj6fXnxFm+q",
      "include_colab_link": true
    },
    "kernelspec": {
      "name": "python3",
      "display_name": "Python 3"
    },
    "language_info": {
      "name": "python"
    }
  },
  "cells": [
    {
      "cell_type": "markdown",
      "metadata": {
        "id": "view-in-github",
        "colab_type": "text"
      },
      "source": [
        "<a href=\"https://colab.research.google.com/github/khalinvidamo1-1/OOP-1-1/blob/main/Prelim_Exam.ipynb\" target=\"_parent\"><img src=\"https://colab.research.google.com/assets/colab-badge.svg\" alt=\"Open In Colab\"/></a>"
      ]
    },
    {
      "cell_type": "markdown",
      "source": [
        "#PROBLEM 2"
      ],
      "metadata": {
        "id": "zd7fiZXF_mpm"
      }
    },
    {
      "cell_type": "markdown",
      "source": [
        "###1.) Write a Python to display your full name, student number, age, and course"
      ],
      "metadata": {
        "id": "G1GwaJma_xKh"
      }
    },
    {
      "cell_type": "code",
      "execution_count": 4,
      "metadata": {
        "colab": {
          "base_uri": "https://localhost:8080/"
        },
        "id": "xvvW2ZVW23gD",
        "outputId": "0488862e-8108-4b03-c5d9-df0be387595d"
      },
      "outputs": [
        {
          "output_type": "stream",
          "name": "stdout",
          "text": [
            "My Name is Khalin Vidamo\n",
            "My Student Number is 202101935\n",
            "My Age is 18\n",
            "My Course is BSCpE\n"
          ]
        }
      ],
      "source": [
        "class OOP_1_1:\n",
        "  def __init__(self,fullname, student_no, age, course):\n",
        "    self.fullname = fullname\n",
        "    self.student_no = student_no\n",
        "    self.age = age\n",
        "    self.course = course\n",
        "\n",
        "  def Info(self):\n",
        "    #print(self.fullname, self.student_no,self.age,self.course)\n",
        "    print(\"My Name is\", self.fullname)\n",
        "    print(\"My Student Number is\", self.student_no)\n",
        "    print(\"My Age is\", self.age)\n",
        "    print(\"My Course is\", self.course)\n",
        " \n",
        "student = OOP_1_1(\"Khalin Vidamo\" ,202101935, 18, \"BSCpE\")\n",
        "student.Info()"
      ]
    },
    {
      "cell_type": "markdown",
      "source": [
        "###2.) Create a class named Student with attributes: Name, Student_No, Age, School, and Course\n"
      ],
      "metadata": {
        "id": "-D7R0EQ8AwP6"
      }
    },
    {
      "cell_type": "code",
      "source": [
        "class MyClass:\n",
        "  def __init__(self,name,student_no,age,school,course):\n",
        "    self.name = name    #create a class with attributes\n",
        "    self.student_no = student_no \n",
        "    self.age = age \n",
        "    self.school = school \n",
        "    self.course = course \n",
        "  def display(self):\n",
        "    print(self.name, self.student_no, self.age, self.school, self.course )\n",
        "\n",
        "person = MyClass(\"Khalin Vidamo\",202101935, 18, \"Cavite State University\", \"Bscpe\" )  \n",
        "person.display()"
      ],
      "metadata": {
        "colab": {
          "base_uri": "https://localhost:8080/"
        },
        "id": "rgBfohhDAu2n",
        "outputId": "2da41d28-902f-42b3-d76e-e214d54d62e1"
      },
      "execution_count": 12,
      "outputs": [
        {
          "output_type": "stream",
          "name": "stdout",
          "text": [
            "Khalin Vidamo 202101935 18 Cavite State University Bscpe\n"
          ]
        }
      ]
    },
    {
      "cell_type": "markdown",
      "source": [
        "###3.)Create an object name Myself and assign an instance for each attribute.\n"
      ],
      "metadata": {
        "id": "ht-rj5O9EbTr"
      }
    },
    {
      "cell_type": "code",
      "source": [
        "class OOP_1_1:\n",
        "  def __init__(self,fullname, age, course, school):\n",
        "    self.fullname = fullname\n",
        "    self.age = age\n",
        "    self.course = course\n",
        "    self.school = school\n",
        "\n",
        "  def Info(self):\n",
        "    #print(self.fullname, self.age,self.course,self.school)\n",
        "    print(\"My Name is\", self.fullname)\n",
        "    print(\"My Age is\", self.age)\n",
        "    print(\"My Course is\", self.course)\n",
        "    print(\"My School is\", self.school)\n",
        " \n",
        "student = OOP_1_1(\"Khalin Vidamp\",18, \"BSCpE\", \"CVSU\")\n",
        "student.Info()"
      ],
      "metadata": {
        "colab": {
          "base_uri": "https://localhost:8080/"
        },
        "id": "dLuwkXzNEimb",
        "outputId": "5d8549db-2e2b-4551-9a38-95635fe0bb02"
      },
      "execution_count": 13,
      "outputs": [
        {
          "output_type": "stream",
          "name": "stdout",
          "text": [
            "My Name is Khalin Vidamp\n",
            "My Age is 18\n",
            "My Course is BSCpE\n",
            "My School is CVSU\n"
          ]
        }
      ]
    },
    {
      "cell_type": "markdown",
      "source": [
        "###4.) Create a method Info() using an instantiation of a class.\n"
      ],
      "metadata": {
        "id": "mCurJV7WFxE2"
      }
    },
    {
      "cell_type": "code",
      "source": [
        "class OOP_1_1:\n",
        "  def __init__(self,fullname, age, course, school):\n",
        "    self.fullname = fullname\n",
        "    self.age = age\n",
        "    self.course = course\n",
        "    self.school = school\n",
        "\n",
        "  def Info(self):\n",
        "    #print(self.fullname,self.age,self.course,self.school)\n",
        "    print(\"My Name is\", self.fullname)\n",
        "    print(\"My Age is\", self.age)\n",
        "    print(\"My Course is\", self.course)\n",
        "    print(\"My School is\", self.school)\n",
        " \n",
        "student = OOP_1_1(\"Khalin Vidamo\",18, \"BSCpE\", \"CVSU\")\n",
        "student.Info()"
      ],
      "metadata": {
        "colab": {
          "base_uri": "https://localhost:8080/"
        },
        "id": "ocUYgYCPGEsq",
        "outputId": "33a58d7e-51c7-4c68-d8cc-ee418ee500a1"
      },
      "execution_count": 15,
      "outputs": [
        {
          "output_type": "stream",
          "name": "stdout",
          "text": [
            "My Name is Khalin Vidamo\n",
            "My Age is 18\n",
            "My Course is BSCpE\n",
            "My School is CVSU\n"
          ]
        }
      ]
    }
  ]
}