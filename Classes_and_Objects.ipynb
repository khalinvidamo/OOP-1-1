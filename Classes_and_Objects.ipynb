{
  "nbformat": 4,
  "nbformat_minor": 0,
  "metadata": {
    "colab": {
      "name": "Classes and Objects.ipynb",
      "provenance": [],
      "authorship_tag": "ABX9TyP0dG+epr29b339e9SmWRZp",
      "include_colab_link": true
    },
    "kernelspec": {
      "name": "python3",
      "display_name": "Python 3"
    },
    "language_info": {
      "name": "python"
    }
  },
  "cells": [
    {
      "cell_type": "markdown",
      "metadata": {
        "id": "view-in-github",
        "colab_type": "text"
      },
      "source": [
        "<a href=\"https://colab.research.google.com/github/khalinvidamo1-1/OOP-1-1/blob/main/Classes_and_Objects.ipynb\" target=\"_parent\"><img src=\"https://colab.research.google.com/assets/colab-badge.svg\" alt=\"Open In Colab\"/></a>"
      ]
    },
    {
      "cell_type": "markdown",
      "source": [
        "####Application 2- Write a python program that displays the fullname of a student, student number, age, course, and school. Create a class name OOP_1-1 and create Info() method to display the information of a student with fullname, student_no,age, course, school as attributes.\n"
      ],
      "metadata": {
        "id": "eqU_nwr61kWh"
      }
    },
    {
      "cell_type": "code",
      "source": [
        "class OOP_1_1:\n",
        "  def __init__(self,fullname, student_no, age, course, school):\n",
        "    self.fullname = fullname\n",
        "    self.student_no = student_no\n",
        "    self.age = age\n",
        "    self.course = course\n",
        "    self.school = school\n",
        "\n",
        "  def Info(self):\n",
        "    #print(self.fullname, self.student_no,self.age,self.course,self.school)\n",
        "    print(\"My Name is\", self.fullname)\n",
        "    print(\"My Student Number is\", self.student_no)\n",
        "    print(\"My Age is\", self.age)\n",
        "    print(\"My Course is\", self.course)\n",
        "    print(\"My School is\", self.school)\n",
        " \n",
        "student = OOP_1_1(\"Khalin Vidamp\",202101935, 18, \"BSCpE\", \"CVSU\")\n",
        "student.Info()"
      ],
      "metadata": {
        "colab": {
          "base_uri": "https://localhost:8080/"
        },
        "id": "c7bpnFHv6Wzr",
        "outputId": "bcae15c7-be01-4e65-bd7a-5969cea931f0"
      },
      "execution_count": 30,
      "outputs": [
        {
          "output_type": "stream",
          "name": "stdout",
          "text": [
            "My Name is Khalin Vidamp\n",
            "My Student Number is 202101935\n",
            "My Age is 18\n",
            "My Course is BSCpE\n",
            "My School is CVSU\n"
          ]
        }
      ]
    },
    {
      "cell_type": "markdown",
      "source": [
        "####Application 3 - Define an Area() method of the class Circle that calculates the circle's area. Define a perimeter () method of the class which allows you to calculate the perimeter of the circle."
      ],
      "metadata": {
        "id": "1jYKoExeKZ9I"
      }
    },
    {
      "cell_type": "code",
      "source": [
        "class Circle():\n",
        "    def __init__(self, r):\n",
        "        self.radius = r\n",
        "\n",
        "    def area(self):\n",
        "        return self.radius**2*3.14\n",
        "    \n",
        "    def perimeter(self):\n",
        "        return 2*self.radius*3.14\n",
        "\n",
        "NewCircle = Circle(8)\n",
        "print(NewCircle.area())\n",
        "print(NewCircle.perimeter())"
      ],
      "metadata": {
        "colab": {
          "base_uri": "https://localhost:8080/"
        },
        "id": "TsMJ4RfpQYLo",
        "outputId": "51f9cbe4-bd09-4924-e8ce-6df176bced9d"
      },
      "execution_count": 32,
      "outputs": [
        {
          "output_type": "stream",
          "name": "stdout",
          "text": [
            "200.96\n",
            "50.24\n"
          ]
        }
      ]
    }
  ]
}