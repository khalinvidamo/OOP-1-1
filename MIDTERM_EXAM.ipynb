{
  "nbformat": 4,
  "nbformat_minor": 0,
  "metadata": {
    "colab": {
      "name": "MIDTERM EXAM.ipynb",
      "provenance": [],
      "authorship_tag": "ABX9TyOgdFtG+W/3w7dBCxcYEVfO",
      "include_colab_link": true
    },
    "kernelspec": {
      "name": "python3",
      "display_name": "Python 3"
    },
    "language_info": {
      "name": "python"
    }
  },
  "cells": [
    {
      "cell_type": "markdown",
      "metadata": {
        "id": "view-in-github",
        "colab_type": "text"
      },
      "source": [
        "<a href=\"https://colab.research.google.com/github/khalinvidamo1-1/OOP-1-1/blob/main/MIDTERM_EXAM.ipynb\" target=\"_parent\"><img src=\"https://colab.research.google.com/assets/colab-badge.svg\" alt=\"Open In Colab\"/></a>"
      ]
    },
    {
      "cell_type": "markdown",
      "source": [
        "####Program 1: Modify the program below by adding two conversion methods - Fahrenheit to Celsius and Kelvin to Celsius (50 points)\n"
      ],
      "metadata": {
        "id": "bAwLOt0QIs-U"
      }
    },
    {
      "cell_type": "code",
      "source": [
        "def main():\n",
        " class TemperatureConversion:\n",
        "  def __init__(self, temp=1):\n",
        "   self._temp = temp\n",
        " class CelsiusToFahrenheit(TemperatureConversion):\n",
        "  def conversion(self):\n",
        "   return (self._temp * 9) / 5 + 32\n",
        " class CelsiusToKelvin(TemperatureConversion):\n",
        "  def conversion(self):\n",
        "   return self._temp + 273.15\n",
        "\n",
        " tempInCelsius = float(input(\"Enter the temperature in Celsius: \"))\n",
        " convert = CelsiusToKelvin(tempInCelsius)\n",
        " print(str(convert.conversion()) + \" Kelvin\")\n",
        " convert = CelsiusToFahrenheit(tempInCelsius)\n",
        " print(str(convert.conversion()) + \" Fahrenheit\")\n",
        "\n",
        "\n",
        "main()\n"
      ],
      "metadata": {
        "colab": {
          "base_uri": "https://localhost:8080/"
        },
        "id": "B7ZVvStkIzJ0",
        "outputId": "239bc07f-7a2f-4c53-b9d4-72fb198e1af5"
      },
      "execution_count": null,
      "outputs": [
        {
          "output_type": "stream",
          "name": "stdout",
          "text": [
            "Enter the temperature in Celsius: 30\n",
            "303.15 Kelvin\n",
            "86.0 Fahrenheit\n"
          ]
        }
      ]
    },
    {
      "cell_type": "code",
      "source": [
        "# Celsius to Fahrenheit & Kelvin\n",
        "\n",
        "# Reading temperature in Celsius\n",
        "celsius = float(input('Enter temperature in celsius: '))\n",
        "\n",
        "# Converting\n",
        "fahrenheit = 1.8 * celsius + 32\n",
        "kelvin = 273.15 + celsius\n",
        "\n",
        "# Displaying output\n",
        "print('%0.3f Celsius = %0.3f Fahrenheit.' % (celsius, fahrenheit))\n",
        "print('%0.3f Celsius = %0.3f Kelvin.' % (celsius, kelvin))"
      ],
      "metadata": {
        "colab": {
          "base_uri": "https://localhost:8080/"
        },
        "id": "oui2CU4yJzVq",
        "outputId": "0c25314d-ab67-4ac3-9a9b-c3e8949c390b"
      },
      "execution_count": null,
      "outputs": [
        {
          "output_type": "stream",
          "name": "stdout",
          "text": [
            "Enter temperature in celsius: 95\n",
            "95.000 Celsius = 203.000 Fahrenheit.\n",
            "95.000 Celsius = 368.150 Kelvin.\n"
          ]
        }
      ]
    },
    {
      "cell_type": "code",
      "source": [
        "temp = float(input(\"Enter temperature in Fahrenheit: \"))\n",
        "celsius = (temp - 32) * 5/9\n",
        "print(f\"{temp} in Fahrenheit is equal to {celsius} in Celsius\")"
      ],
      "metadata": {
        "colab": {
          "base_uri": "https://localhost:8080/"
        },
        "id": "xVEFpOPuKDX0",
        "outputId": "0a9ba9a8-061e-4755-c4ba-0203397aba77"
      },
      "execution_count": null,
      "outputs": [
        {
          "output_type": "stream",
          "name": "stdout",
          "text": [
            "Enter temperature in Fahrenheit: 90\n",
            "90.0 in Fahrenheit is equal to 32.22222222222222 in Celsius\n"
          ]
        }
      ]
    }
  ]
}